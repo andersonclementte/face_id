{
 "cells": [
  {
   "cell_type": "code",
   "execution_count": 1,
   "metadata": {},
   "outputs": [],
   "source": [
    "# !pip install opencv-python matplotlib tensorflow-datasets"
   ]
  },
  {
   "cell_type": "code",
   "execution_count": 42,
   "metadata": {},
   "outputs": [],
   "source": [
    "import cv2\n",
    "import os\n",
    "import random\n",
    "import numpy as np\n",
    "import matplotlib.pyplot as plt\n",
    "import uuid"
   ]
  },
  {
   "cell_type": "code",
   "execution_count": 3,
   "metadata": {},
   "outputs": [
    {
     "name": "stderr",
     "output_type": "stream",
     "text": [
      "2024-08-31 12:26:44.332191: E external/local_xla/xla/stream_executor/cuda/cuda_fft.cc:485] Unable to register cuFFT factory: Attempting to register factory for plugin cuFFT when one has already been registered\n",
      "2024-08-31 12:26:44.349681: E external/local_xla/xla/stream_executor/cuda/cuda_dnn.cc:8454] Unable to register cuDNN factory: Attempting to register factory for plugin cuDNN when one has already been registered\n",
      "2024-08-31 12:26:44.354577: E external/local_xla/xla/stream_executor/cuda/cuda_blas.cc:1452] Unable to register cuBLAS factory: Attempting to register factory for plugin cuBLAS when one has already been registered\n",
      "2024-08-31 12:26:44.367096: I tensorflow/core/platform/cpu_feature_guard.cc:210] This TensorFlow binary is optimized to use available CPU instructions in performance-critical operations.\n",
      "To enable the following instructions: AVX2 FMA, in other operations, rebuild TensorFlow with the appropriate compiler flags.\n",
      "2024-08-31 12:26:45.234366: W tensorflow/compiler/tf2tensorrt/utils/py_utils.cc:38] TF-TRT Warning: Could not find TensorRT\n"
     ]
    }
   ],
   "source": [
    "from tensorflow.keras.models import Model\n",
    "from tensorflow.keras.layers import Layer, Input, Conv2D, MaxPooling2D, Input, Flatten\n",
    "import tensorflow as tf\n",
    "import tensorflow_datasets as tfds"
   ]
  },
  {
   "cell_type": "markdown",
   "metadata": {},
   "source": [
    "# Set GPU Growth"
   ]
  },
  {
   "cell_type": "code",
   "execution_count": 4,
   "metadata": {},
   "outputs": [
    {
     "name": "stderr",
     "output_type": "stream",
     "text": [
      "WARNING: All log messages before absl::InitializeLog() is called are written to STDERR\n",
      "I0000 00:00:1725118005.865099    8639 cuda_executor.cc:1015] successful NUMA node read from SysFS had negative value (-1), but there must be at least one NUMA node, so returning NUMA node zero. See more at https://github.com/torvalds/linux/blob/v6.0/Documentation/ABI/testing/sysfs-bus-pci#L344-L355\n",
      "I0000 00:00:1725118005.916465    8639 cuda_executor.cc:1015] successful NUMA node read from SysFS had negative value (-1), but there must be at least one NUMA node, so returning NUMA node zero. See more at https://github.com/torvalds/linux/blob/v6.0/Documentation/ABI/testing/sysfs-bus-pci#L344-L355\n",
      "I0000 00:00:1725118005.916898    8639 cuda_executor.cc:1015] successful NUMA node read from SysFS had negative value (-1), but there must be at least one NUMA node, so returning NUMA node zero. See more at https://github.com/torvalds/linux/blob/v6.0/Documentation/ABI/testing/sysfs-bus-pci#L344-L355\n"
     ]
    }
   ],
   "source": [
    "#avoid out of memory erros by setting GPU memory growth\n",
    "\n",
    "gpus = tf.config.experimental.list_physical_devices('GPU')\n",
    "for gpu in gpus:\n",
    "    tf.config.experimental.set_memory_growth(gpu, True)\n"
   ]
  },
  {
   "cell_type": "code",
   "execution_count": 5,
   "metadata": {},
   "outputs": [
    {
     "name": "stdout",
     "output_type": "stream",
     "text": [
      "Name: /physical_device:GPU:0   Type: GPU\n"
     ]
    }
   ],
   "source": [
    "for gpu in gpus:\n",
    "    print(\"Name:\", gpu.name, \"  Type:\", gpu.device_type)"
   ]
  },
  {
   "cell_type": "markdown",
   "metadata": {},
   "source": [
    "## Folder structures"
   ]
  },
  {
   "cell_type": "code",
   "execution_count": 6,
   "metadata": {},
   "outputs": [],
   "source": [
    "POS_PATH = os.path.join(\"data\", \"positive\")\n",
    "NEG_PATH = os.path.join(\"data\", \"negative\")\n",
    "ANC_PATH = os.path.join(\"data\", \"anchor\")"
   ]
  },
  {
   "cell_type": "code",
   "execution_count": 7,
   "metadata": {},
   "outputs": [],
   "source": [
    "os.makedirs(POS_PATH, exist_ok=True)\n",
    "os.makedirs(NEG_PATH, exist_ok=True)\n",
    "os.makedirs(ANC_PATH, exist_ok=True)"
   ]
  },
  {
   "cell_type": "code",
   "execution_count": null,
   "metadata": {},
   "outputs": [],
   "source": [
    "lfw_dataset, info = tfds.load('lfw', split='train', with_info=True, as_supervised=True)\n",
    "\n",
    "# Display dataset information\n",
    "print(info)"
   ]
  },
  {
   "cell_type": "code",
   "execution_count": 36,
   "metadata": {},
   "outputs": [
    {
     "name": "stdout",
     "output_type": "stream",
     "text": [
      "All images have been moved to the data/negative directory.\n"
     ]
    }
   ],
   "source": [
    "# Function to save images to a directory\n",
    "def save_image(image, index, directory):\n",
    "    # Convert the image tensor to a NumPy array and then to uint8\n",
    "    image_np = tf.image.convert_image_dtype(image, dtype=tf.uint8).numpy()\n",
    "\n",
    "    # Encode image in JPEG format\n",
    "    image_encoded = tf.image.encode_jpeg(image_np)\n",
    "    \n",
    "    # Define the path to save the image\n",
    "    image_path = os.path.join(directory, f'image_{index}.jpg')\n",
    "    \n",
    "    # Write the image to the file\n",
    "    tf.io.write_file(image_path, image_encoded)\n",
    "\n",
    "# Move all images to the negative directory\n",
    "for index, (label, image) in enumerate(lfw_dataset):\n",
    "    save_image(image, index, NEG_PATH)\n",
    "\n",
    "print(f\"All images have been moved to the {NEG_PATH} directory.\")"
   ]
  },
  {
   "cell_type": "markdown",
   "metadata": {},
   "source": [
    "## Colect Positive and Anchor Classes"
   ]
  },
  {
   "cell_type": "code",
   "execution_count": 38,
   "metadata": {},
   "outputs": [],
   "source": [
    "cap = cv2.VideoCapture(0)\n",
    "while cap.isOpened():\n",
    "    ret, frame = cap.read()\n",
    "    if not ret:\n",
    "        print(\"Can't receive frame (stream end?). Exiting ...\")\n",
    "        break\n",
    "\n",
    "    cv2.imshow('frame', frame)\n",
    "    if cv2.waitKey(1) & 0XFF == ord('q'):\n",
    "        break\n",
    "\n",
    "    if cv2.waitKey(1) & 0XFF == ord('p'):\n",
    "        cv2.imwrite(os.path.join(POS_PATH, f\"image_{random.randint(0, 1000)}.jpg\"), frame)  \n",
    "    \n",
    "cap.release()\n",
    "cv2.destroyAllWindows()"
   ]
  },
  {
   "cell_type": "code",
   "execution_count": 44,
   "metadata": {},
   "outputs": [
    {
     "name": "stdout",
     "output_type": "stream",
     "text": [
      "Saved frame to data/anchor/e31c760e-67be-11ef-8b57-dc215cb50b44.jpg\n",
      "Saved frame to data/anchor/e68fe1a4-67be-11ef-8b57-dc215cb50b44.jpg\n",
      "Saved frame to data/anchor/e764c8a6-67be-11ef-8b57-dc215cb50b44.jpg\n",
      "Saved frame to data/anchor/e7c43502-67be-11ef-8b57-dc215cb50b44.jpg\n",
      "Saved frame to data/anchor/ee1cf5a6-67be-11ef-8b57-dc215cb50b44.jpg\n",
      "Saved frame to data/anchor/ee36e0ce-67be-11ef-8b57-dc215cb50b44.jpg\n",
      "Saved frame to data/anchor/eed7fed2-67be-11ef-8b57-dc215cb50b44.jpg\n",
      "Saved frame to data/anchor/eef326e4-67be-11ef-8b57-dc215cb50b44.jpg\n"
     ]
    }
   ],
   "source": [
    "#Haar cascade for face detection\n",
    "face_cascade = cv2.CascadeClassifier(cv2.data.haarcascades + 'haarcascade_frontalface_default.xml')\n",
    "\n",
    "cap = cv2.VideoCapture(0)\n",
    "while cap.isOpened():\n",
    "    ret, frame = cap.read()\n",
    "    if not ret:\n",
    "        print(\"Can't receive frame (stream end?). Exiting ...\")\n",
    "        break\n",
    "    \n",
    "    gray = cv2.cvtColor(frame, cv2.COLOR_BGR2GRAY)\n",
    "    \n",
    "    faces = face_cascade.detectMultiScale(gray, scaleFactor=1.1, minNeighbors=5, minSize=(30, 30))\n",
    "\n",
    "    if len(faces) > 0:\n",
    "        (x, y, w, h) = faces[0] \n",
    "        center_x, center_y = x + w // 2, y + h // 2\n",
    "        \n",
    "        # Define the dimensions for the centered crop\n",
    "        half_width = 125  # Half of the target width 250\n",
    "        half_height = 125  # Half of the target height 250\n",
    "\n",
    "        \n",
    "        start_x = max(center_x - half_width, 0)\n",
    "        start_y = max(center_y - half_height, 0)\n",
    "        end_x = min(center_x + half_width, frame.shape[1])\n",
    "        end_y = min(center_y + half_height, frame.shape[0])\n",
    "        \n",
    "        \n",
    "        cropped_frame = frame[start_y:end_y, start_x:end_x]\n",
    "        \n",
    "        \n",
    "        resized_frame = cv2.resize(cropped_frame, (250, 250))\n",
    "    else:\n",
    "        \n",
    "        resized_frame = cv2.resize(frame, (250, 250))\n",
    "    \n",
    "    \n",
    "    cv2.imshow('frame', resized_frame)\n",
    "\n",
    "    if cv2.waitKey(1) & 0xFF == ord('p'):\n",
    "        image_path = os.path.join(POS_PATH, f\"{uuid.uuid1()}.jpg\")\n",
    "        cv2.imwrite(image_path, resized_frame)\n",
    "        print(f\"Saved frame to {image_path}\")\n",
    "\n",
    "    if cv2.waitKey(1) & 0xFF == ord('a'):\n",
    "        image_path = os.path.join(ANC_PATH, f\"{uuid.uuid1()}.jpg\")\n",
    "        cv2.imwrite(image_path, resized_frame)\n",
    "        print(f\"Saved frame to {image_path}\")\n",
    "    \n",
    "    if cv2.waitKey(1) & 0xFF == ord('q'):\n",
    "        break\n",
    "\n",
    "    \n",
    "\n",
    "cap.release()\n",
    "cv2.destroyAllWindows()"
   ]
  },
  {
   "cell_type": "code",
   "execution_count": null,
   "metadata": {},
   "outputs": [],
   "source": []
  }
 ],
 "metadata": {
  "kernelspec": {
   "display_name": "tf_gpu",
   "language": "python",
   "name": "python3"
  },
  "language_info": {
   "codemirror_mode": {
    "name": "ipython",
    "version": 3
   },
   "file_extension": ".py",
   "mimetype": "text/x-python",
   "name": "python",
   "nbconvert_exporter": "python",
   "pygments_lexer": "ipython3",
   "version": "3.10.14"
  }
 },
 "nbformat": 4,
 "nbformat_minor": 2
}
