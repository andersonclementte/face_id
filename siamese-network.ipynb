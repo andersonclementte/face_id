{
 "cells": [
  {
   "cell_type": "code",
   "execution_count": 1,
   "metadata": {},
   "outputs": [],
   "source": [
    "# !pip install opencv-python matplotlib tensorflow-datasets"
   ]
  },
  {
   "cell_type": "code",
   "execution_count": 2,
   "metadata": {},
   "outputs": [],
   "source": [
    "import cv2\n",
    "import os\n",
    "import random\n",
    "import numpy as np\n",
    "import matplotlib.pyplot as plt\n",
    "import uuid"
   ]
  },
  {
   "cell_type": "code",
   "execution_count": 3,
   "metadata": {},
   "outputs": [
    {
     "name": "stderr",
     "output_type": "stream",
     "text": [
      "2024-08-31 15:01:19.432423: E external/local_xla/xla/stream_executor/cuda/cuda_fft.cc:485] Unable to register cuFFT factory: Attempting to register factory for plugin cuFFT when one has already been registered\n",
      "2024-08-31 15:01:19.450785: E external/local_xla/xla/stream_executor/cuda/cuda_dnn.cc:8454] Unable to register cuDNN factory: Attempting to register factory for plugin cuDNN when one has already been registered\n",
      "2024-08-31 15:01:19.456396: E external/local_xla/xla/stream_executor/cuda/cuda_blas.cc:1452] Unable to register cuBLAS factory: Attempting to register factory for plugin cuBLAS when one has already been registered\n",
      "2024-08-31 15:01:19.469320: I tensorflow/core/platform/cpu_feature_guard.cc:210] This TensorFlow binary is optimized to use available CPU instructions in performance-critical operations.\n",
      "To enable the following instructions: AVX2 FMA, in other operations, rebuild TensorFlow with the appropriate compiler flags.\n",
      "2024-08-31 15:01:20.371592: W tensorflow/compiler/tf2tensorrt/utils/py_utils.cc:38] TF-TRT Warning: Could not find TensorRT\n"
     ]
    }
   ],
   "source": [
    "from tensorflow.keras.models import Model\n",
    "from tensorflow.keras.layers import Layer, Input, Conv2D, MaxPooling2D, Input, Flatten\n",
    "import tensorflow as tf\n",
    "import tensorflow_datasets as tfds"
   ]
  },
  {
   "cell_type": "markdown",
   "metadata": {},
   "source": [
    "# Set GPU Growth"
   ]
  },
  {
   "cell_type": "code",
   "execution_count": 4,
   "metadata": {},
   "outputs": [
    {
     "name": "stderr",
     "output_type": "stream",
     "text": [
      "2024-08-31 15:01:21.092021: E external/local_xla/xla/stream_executor/cuda/cuda_driver.cc:266] failed call to cuInit: CUDA_ERROR_UNKNOWN: unknown error\n",
      "2024-08-31 15:01:21.092053: I external/local_xla/xla/stream_executor/cuda/cuda_diagnostics.cc:135] retrieving CUDA diagnostic information for host: nitro\n",
      "2024-08-31 15:01:21.092061: I external/local_xla/xla/stream_executor/cuda/cuda_diagnostics.cc:142] hostname: nitro\n",
      "2024-08-31 15:01:21.092160: I external/local_xla/xla/stream_executor/cuda/cuda_diagnostics.cc:166] libcuda reported version is: 535.183.1\n",
      "2024-08-31 15:01:21.092200: I external/local_xla/xla/stream_executor/cuda/cuda_diagnostics.cc:170] kernel reported version is: 535.183.1\n",
      "2024-08-31 15:01:21.092208: I external/local_xla/xla/stream_executor/cuda/cuda_diagnostics.cc:249] kernel version seems to match DSO: 535.183.1\n"
     ]
    }
   ],
   "source": [
    "#avoid out of memory erros by setting GPU memory growth\n",
    "\n",
    "gpus = tf.config.experimental.list_physical_devices('GPU')\n",
    "for gpu in gpus:\n",
    "    tf.config.experimental.set_memory_growth(gpu, True)\n"
   ]
  },
  {
   "cell_type": "code",
   "execution_count": 5,
   "metadata": {},
   "outputs": [],
   "source": [
    "for gpu in gpus:\n",
    "    print(\"Name:\", gpu.name, \"  Type:\", gpu.device_type)"
   ]
  },
  {
   "cell_type": "markdown",
   "metadata": {},
   "source": [
    "## Folder structures"
   ]
  },
  {
   "cell_type": "code",
   "execution_count": 6,
   "metadata": {},
   "outputs": [],
   "source": [
    "POS_PATH = os.path.join(\"data\", \"positive\")\n",
    "NEG_PATH = os.path.join(\"data\", \"negative\")\n",
    "ANC_PATH = os.path.join(\"data\", \"anchor\")"
   ]
  },
  {
   "cell_type": "code",
   "execution_count": 7,
   "metadata": {},
   "outputs": [],
   "source": [
    "os.makedirs(POS_PATH, exist_ok=True)\n",
    "os.makedirs(NEG_PATH, exist_ok=True)\n",
    "os.makedirs(ANC_PATH, exist_ok=True)"
   ]
  },
  {
   "cell_type": "code",
   "execution_count": 8,
   "metadata": {},
   "outputs": [
    {
     "name": "stdout",
     "output_type": "stream",
     "text": [
      "tfds.core.DatasetInfo(\n",
      "    name='lfw',\n",
      "    full_name='lfw/0.1.0',\n",
      "    description=\"\"\"\n",
      "    Labeled Faces in the Wild: A Database for Studying Face Recognition in\n",
      "    Unconstrained Environments\n",
      "    \"\"\",\n",
      "    homepage='http://vis-www.cs.umass.edu/lfw',\n",
      "    data_dir='/home/andersonc/tensorflow_datasets/lfw/0.1.0',\n",
      "    file_format=tfrecord,\n",
      "    download_size=172.20 MiB,\n",
      "    dataset_size=180.28 MiB,\n",
      "    features=FeaturesDict({\n",
      "        'image': Image(shape=(250, 250, 3), dtype=uint8),\n",
      "        'label': Text(shape=(), dtype=string),\n",
      "    }),\n",
      "    supervised_keys=('label', 'image'),\n",
      "    disable_shuffling=False,\n",
      "    splits={\n",
      "        'train': <SplitInfo num_examples=13233, num_shards=2>,\n",
      "    },\n",
      "    citation=\"\"\"@TechReport{LFWTech,\n",
      "        author = {Gary B. Huang and Manu Ramesh and Tamara Berg and Erik Learned-Miller},\n",
      "        title = {Labeled Faces in the Wild: A Database for Studying Face Recognition in Unconstrained Environments},\n",
      "        institution = {University of Massachusetts, Amherst},\n",
      "        year = 2007,\n",
      "        number = {07-49},\n",
      "        month = {October}\n",
      "    }\"\"\",\n",
      ")\n"
     ]
    }
   ],
   "source": [
    "lfw_dataset, info = tfds.load('lfw', split='train', with_info=True, as_supervised=True)\n",
    "\n",
    "# Display dataset information\n",
    "print(info)"
   ]
  },
  {
   "cell_type": "code",
   "execution_count": 9,
   "metadata": {},
   "outputs": [
    {
     "name": "stdout",
     "output_type": "stream",
     "text": [
      "All images have been moved to the data/negative directory.\n"
     ]
    },
    {
     "name": "stderr",
     "output_type": "stream",
     "text": [
      "2024-08-31 15:01:36.458751: I tensorflow/core/framework/local_rendezvous.cc:404] Local rendezvous is aborting with status: OUT_OF_RANGE: End of sequence\n"
     ]
    }
   ],
   "source": [
    "# Function to save images to a directory\n",
    "def save_image(image, index, directory):\n",
    "    # Convert the image tensor to a NumPy array and then to uint8\n",
    "    image_np = tf.image.convert_image_dtype(image, dtype=tf.uint8).numpy()\n",
    "\n",
    "    # Encode image in JPEG format\n",
    "    image_encoded = tf.image.encode_jpeg(image_np)\n",
    "    \n",
    "    # Define the path to save the image\n",
    "    image_path = os.path.join(directory, f'image_{index}.jpg')\n",
    "    \n",
    "    # Write the image to the file\n",
    "    tf.io.write_file(image_path, image_encoded)\n",
    "\n",
    "# Move all images to the negative directory\n",
    "for index, (label, image) in enumerate(lfw_dataset):\n",
    "    save_image(image, index, NEG_PATH)\n",
    "\n",
    "print(f\"All images have been moved to the {NEG_PATH} directory.\")"
   ]
  },
  {
   "cell_type": "markdown",
   "metadata": {},
   "source": [
    "## Colect Positive and Anchor Classes"
   ]
  },
  {
   "cell_type": "code",
   "execution_count": 10,
   "metadata": {},
   "outputs": [],
   "source": [
    "cap = cv2.VideoCapture(0)\n",
    "while cap.isOpened():\n",
    "    ret, frame = cap.read()\n",
    "    if not ret:\n",
    "        print(\"Can't receive frame (stream end?). Exiting ...\")\n",
    "        break\n",
    "\n",
    "    cv2.imshow('frame', frame)\n",
    "    if cv2.waitKey(1) & 0XFF == ord('q'):\n",
    "        break\n",
    "\n",
    "    if cv2.waitKey(1) & 0XFF == ord('p'):\n",
    "        cv2.imwrite(os.path.join(POS_PATH, f\"image_{random.randint(0, 1000)}.jpg\"), frame)  \n",
    "    \n",
    "cap.release()\n",
    "cv2.destroyAllWindows()"
   ]
  },
  {
   "cell_type": "code",
   "execution_count": 11,
   "metadata": {},
   "outputs": [
    {
     "name": "stdout",
     "output_type": "stream",
     "text": [
      "Saved frame to data/anchor/1de3a06a-67c3-11ef-80ac-dc215cb50b44.jpg\n",
      "Saved frame to data/anchor/1ed70ca0-67c3-11ef-80ac-dc215cb50b44.jpg\n",
      "Saved frame to data/anchor/1fd8a654-67c3-11ef-80ac-dc215cb50b44.jpg\n",
      "Saved frame to data/anchor/22eba742-67c3-11ef-80ac-dc215cb50b44.jpg\n",
      "Saved frame to data/anchor/245a72fc-67c3-11ef-80ac-dc215cb50b44.jpg\n",
      "Saved frame to data/anchor/27cb8e3a-67c3-11ef-80ac-dc215cb50b44.jpg\n",
      "Saved frame to data/anchor/284c46d8-67c3-11ef-80ac-dc215cb50b44.jpg\n",
      "Saved frame to data/anchor/2f8394ce-67c3-11ef-80ac-dc215cb50b44.jpg\n",
      "Saved frame to data/anchor/30be0e64-67c3-11ef-80ac-dc215cb50b44.jpg\n",
      "Saved frame to data/anchor/39c22a7c-67c3-11ef-80ac-dc215cb50b44.jpg\n",
      "Saved frame to data/positive/3a2cb752-67c3-11ef-80ac-dc215cb50b44.jpg\n",
      "Saved frame to data/positive/3a4349d6-67c3-11ef-80ac-dc215cb50b44.jpg\n",
      "Saved frame to data/positive/3a5ee664-67c3-11ef-80ac-dc215cb50b44.jpg\n",
      "Saved frame to data/positive/3a798442-67c3-11ef-80ac-dc215cb50b44.jpg\n",
      "Saved frame to data/positive/3a980b56-67c3-11ef-80ac-dc215cb50b44.jpg\n",
      "Saved frame to data/positive/3ab67212-67c3-11ef-80ac-dc215cb50b44.jpg\n",
      "Saved frame to data/positive/3acfe77e-67c3-11ef-80ac-dc215cb50b44.jpg\n",
      "Saved frame to data/positive/3aebd344-67c3-11ef-80ac-dc215cb50b44.jpg\n",
      "Saved frame to data/positive/3b24e832-67c3-11ef-80ac-dc215cb50b44.jpg\n",
      "Saved frame to data/positive/3b4411bc-67c3-11ef-80ac-dc215cb50b44.jpg\n",
      "Saved frame to data/positive/3b615cea-67c3-11ef-80ac-dc215cb50b44.jpg\n",
      "Saved frame to data/positive/3b7ba442-67c3-11ef-80ac-dc215cb50b44.jpg\n",
      "Saved frame to data/positive/3b9b0eae-67c3-11ef-80ac-dc215cb50b44.jpg\n",
      "Saved frame to data/positive/3bb4f350-67c3-11ef-80ac-dc215cb50b44.jpg\n",
      "Saved frame to data/positive/3bf0e2c0-67c3-11ef-80ac-dc215cb50b44.jpg\n",
      "Saved frame to data/positive/3c0e2cb8-67c3-11ef-80ac-dc215cb50b44.jpg\n",
      "Saved frame to data/positive/3c2dc7ee-67c3-11ef-80ac-dc215cb50b44.jpg\n",
      "Saved frame to data/positive/3c5158b2-67c3-11ef-80ac-dc215cb50b44.jpg\n",
      "Saved frame to data/positive/3c6a20b8-67c3-11ef-80ac-dc215cb50b44.jpg\n",
      "Saved frame to data/positive/3c8a71a6-67c3-11ef-80ac-dc215cb50b44.jpg\n",
      "Saved frame to data/positive/3cc67aac-67c3-11ef-80ac-dc215cb50b44.jpg\n",
      "Saved frame to data/positive/3cf96c96-67c3-11ef-80ac-dc215cb50b44.jpg\n",
      "Saved frame to data/positive/3d15c09e-67c3-11ef-80ac-dc215cb50b44.jpg\n",
      "Saved frame to data/positive/3d3d5a32-67c3-11ef-80ac-dc215cb50b44.jpg\n",
      "Saved frame to data/positive/3d5caaae-67c3-11ef-80ac-dc215cb50b44.jpg\n",
      "Saved frame to data/positive/3d7bb5fc-67c3-11ef-80ac-dc215cb50b44.jpg\n",
      "Saved frame to data/positive/3d967e50-67c3-11ef-80ac-dc215cb50b44.jpg\n",
      "Saved frame to data/positive/3db8f994-67c3-11ef-80ac-dc215cb50b44.jpg\n",
      "Saved frame to data/positive/3ddc9700-67c3-11ef-80ac-dc215cb50b44.jpg\n",
      "Saved frame to data/positive/3e1895fc-67c3-11ef-80ac-dc215cb50b44.jpg\n",
      "Saved frame to data/positive/3e32ef88-67c3-11ef-80ac-dc215cb50b44.jpg\n",
      "Saved frame to data/positive/3e553dd6-67c3-11ef-80ac-dc215cb50b44.jpg\n",
      "Saved frame to data/positive/3e741b3e-67c3-11ef-80ac-dc215cb50b44.jpg\n",
      "Saved frame to data/positive/3e94453a-67c3-11ef-80ac-dc215cb50b44.jpg\n",
      "Saved frame to data/positive/3eb2e648-67c3-11ef-80ac-dc215cb50b44.jpg\n",
      "Saved frame to data/positive/3f214b92-67c3-11ef-80ac-dc215cb50b44.jpg\n",
      "Saved frame to data/positive/3f3aeaf2-67c3-11ef-80ac-dc215cb50b44.jpg\n",
      "Saved frame to data/positive/3f536ce4-67c3-11ef-80ac-dc215cb50b44.jpg\n",
      "Saved frame to data/anchor/4033da22-67c3-11ef-80ac-dc215cb50b44.jpg\n"
     ]
    }
   ],
   "source": [
    "#Haar cascade for face detection\n",
    "face_cascade = cv2.CascadeClassifier(cv2.data.haarcascades + 'haarcascade_frontalface_default.xml')\n",
    "\n",
    "cap = cv2.VideoCapture(0)\n",
    "while cap.isOpened():\n",
    "    ret, frame = cap.read()\n",
    "    if not ret:\n",
    "        print(\"Can't receive frame (stream end?). Exiting ...\")\n",
    "        break\n",
    "    \n",
    "    gray = cv2.cvtColor(frame, cv2.COLOR_BGR2GRAY)\n",
    "    \n",
    "    faces = face_cascade.detectMultiScale(gray, scaleFactor=1.1, minNeighbors=5, minSize=(30, 30))\n",
    "\n",
    "    if len(faces) > 0:\n",
    "        (x, y, w, h) = faces[0] \n",
    "        center_x, center_y = x + w // 2, y + h // 2\n",
    "        \n",
    "        # Define the dimensions for the centered crop\n",
    "        half_width = 125  # Half of the target width 250\n",
    "        half_height = 125  # Half of the target height 250\n",
    "\n",
    "        \n",
    "        start_x = max(center_x - half_width, 0)\n",
    "        start_y = max(center_y - half_height, 0)\n",
    "        end_x = min(center_x + half_width, frame.shape[1])\n",
    "        end_y = min(center_y + half_height, frame.shape[0])\n",
    "        \n",
    "        \n",
    "        cropped_frame = frame[start_y:end_y, start_x:end_x]\n",
    "        \n",
    "        \n",
    "        resized_frame = cv2.resize(cropped_frame, (250, 250))\n",
    "    else:\n",
    "        \n",
    "        resized_frame = cv2.resize(frame, (250, 250))\n",
    "    \n",
    "    \n",
    "    cv2.imshow('frame', resized_frame)\n",
    "\n",
    "    if cv2.waitKey(1) & 0xFF == ord('p'):\n",
    "        image_path = os.path.join(POS_PATH, f\"{uuid.uuid1()}.jpg\")\n",
    "        cv2.imwrite(image_path, resized_frame)\n",
    "        print(f\"Saved frame to {image_path}\")\n",
    "\n",
    "    if cv2.waitKey(1) & 0xFF == ord('a'):\n",
    "        image_path = os.path.join(ANC_PATH, f\"{uuid.uuid1()}.jpg\")\n",
    "        cv2.imwrite(image_path, resized_frame)\n",
    "        print(f\"Saved frame to {image_path}\")\n",
    "    \n",
    "    if cv2.waitKey(1) & 0xFF == ord('q'):\n",
    "        break\n",
    "\n",
    "    \n",
    "\n",
    "cap.release()\n",
    "cv2.destroyAllWindows()"
   ]
  },
  {
   "cell_type": "markdown",
   "metadata": {},
   "source": [
    "# Load and process images"
   ]
  },
  {
   "cell_type": "code",
   "execution_count": 12,
   "metadata": {},
   "outputs": [],
   "source": [
    "anchor = tf.data.Dataset.list_files(ANC_PATH + \"/*.jpg\").take(3)\n",
    "positive = tf.data.Dataset.list_files(POS_PATH + \"/*.jpg\").take(3)\n",
    "negative = tf.data.Dataset.list_files(NEG_PATH + \"/*.jpg\").take(3)\n"
   ]
  },
  {
   "cell_type": "code",
   "execution_count": 15,
   "metadata": {},
   "outputs": [
    {
     "name": "stdout",
     "output_type": "stream",
     "text": [
      "data/anchor/c2d344c2-67be-11ef-8b57-dc215cb50b44.jpg\n"
     ]
    }
   ],
   "source": [
    "dir_test = anchor.as_numpy_iterator().next().decode(\"utf-8\")\n",
    "print(dir_test)"
   ]
  },
  {
   "cell_type": "code",
   "execution_count": 23,
   "metadata": {},
   "outputs": [],
   "source": [
    "def preprocess_image(file_path):\n",
    "    img = tf.io.read_file(file_path)\n",
    "    img = tf.image.decode_jpeg(img, channels=3)\n",
    "    img = tf.image.resize(img, [100, 100])\n",
    "    img = img / 255.0\n",
    "    return img"
   ]
  },
  {
   "cell_type": "code",
   "execution_count": 24,
   "metadata": {},
   "outputs": [],
   "source": [
    "img = preprocess_image(dir_test)"
   ]
  },
  {
   "cell_type": "code",
   "execution_count": 25,
   "metadata": {},
   "outputs": [
    {
     "data": {
      "text/plain": [
       "<matplotlib.image.AxesImage at 0x7d98d4b926e0>"
      ]
     },
     "execution_count": 25,
     "metadata": {},
     "output_type": "execute_result"
    },
    {
     "data": {
      "image/png": "[encoded data removed]",
      "text/plain": [
       "<Figure size 640x480 with 1 Axes>"
      ]
     },
     "metadata": {},
     "output_type": "display_data"
    }
   ],
   "source": [
    "plt.imshow(img)"
   ]
  },
  {
   "cell_type": "code",
   "execution_count": 32,
   "metadata": {},
   "outputs": [
    {
     "data": {
      "text/plain": [
       "0.0"
      ]
     },
     "execution_count": 32,
     "metadata": {},
     "output_type": "execute_result"
    }
   ],
   "source": [
    "# create labelled dataset\n",
    "\n",
    "class_labels = tf.data.Dataset.from_tensor_slices(tf.zeros(len(anchor)))\n",
    "iterator_labs = class_labels.as_numpy_iterator()\n",
    "iterator_labs.next()\n"
   ]
  },
  {
   "cell_type": "code",
   "execution_count": null,
   "metadata": {},
   "outputs": [],
   "source": [
    "positives = tf.data.Dataset.zip((anchor, positive, tf.data.Dataset.from_tensor_slices(tf.ones(len(anchor)))))\n",
    "negatives = tf.data.Dataset.zip((anchor, negative, tf.data.Dataset.from_tensor_slices(tf.zeros(len(anchor)))))\n",
    "dataset = tf.data.Dataset.concatenate(positives, negatives)"
   ]
  },
  {
   "cell_type": "code",
   "execution_count": 36,
   "metadata": {},
   "outputs": [],
   "source": [
    "samples = dataset.as_numpy_iterator()"
   ]
  },
  {
   "cell_type": "markdown",
   "metadata": {},
   "source": []
  },
  {
   "cell_type": "code",
   "execution_count": 37,
   "metadata": {},
   "outputs": [
    {
     "data": {
      "text/plain": [
       "(b'data/anchor/1fd8a654-67c3-11ef-80ac-dc215cb50b44.jpg',\n",
       " b'data/positive/3aebd344-67c3-11ef-80ac-dc215cb50b44.jpg',\n",
       " 1.0)"
      ]
     },
     "execution_count": 37,
     "metadata": {},
     "output_type": "execute_result"
    }
   ],
   "source": [
    "samples.next()"
   ]
  },
  {
   "cell_type": "code",
   "execution_count": 38,
   "metadata": {},
   "outputs": [],
   "source": [
    "def process_twin(input_img, validatioin_img, label):\n",
    "    return preprocess_image(input_img), preprocess_image(validatioin_img), label"
   ]
  },
  {
   "cell_type": "code",
   "execution_count": 40,
   "metadata": {},
   "outputs": [],
   "source": [
    "res = process_twin(*samples.next())"
   ]
  },
  {
   "cell_type": "code",
   "execution_count": 44,
   "metadata": {},
   "outputs": [],
   "source": [
    "#build dataloader pipeline\n",
    "\n",
    "dataset = dataset.map(process_twin)\n",
    "dataset = dataset.cache()\n",
    "dataset = dataset.shuffle(buffer_size=1024)"
   ]
  },
  {
   "cell_type": "code",
   "execution_count": 45,
   "metadata": {},
   "outputs": [],
   "source": [
    "# Training  partitions\n",
    "train_data = dataset.take(round(len(dataset)*0.8))\n",
    "train_data = train_data.batch(16)\n",
    "train_data = train_data.prefetch(8)"
   ]
  },
  {
   "cell_type": "code",
   "execution_count": 46,
   "metadata": {},
   "outputs": [],
   "source": [
    "# Testing partitions\n",
    "test_data = dataset.skip(round(len(dataset)*0.8))\n",
    "test_data = test_data.take(round(len(dataset)*0.2))\n",
    "test_data = test_data.batch(16)\n",
    "test_data = test_data.prefetch(8)\n"
   ]
  },
  {
   "cell_type": "code",
   "execution_count": null,
   "metadata": {},
   "outputs": [],
   "source": []
  }
 ],
 "metadata": {
  "kernelspec": {
   "display_name": "tf_gpu",
   "language": "python",
   "name": "python3"
  },
  "language_info": {
   "codemirror_mode": {
    "name": "ipython",
    "version": 3
   },
   "file_extension": ".py",
   "mimetype": "text/x-python",
   "name": "python",
   "nbconvert_exporter": "python",
   "pygments_lexer": "ipython3",
   "version": "3.10.14"
  }
 },
 "nbformat": 4,
 "nbformat_minor": 2
}
